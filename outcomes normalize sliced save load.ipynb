{
 "cells": [
  {
   "cell_type": "code",
   "execution_count": 1,
   "metadata": {},
   "outputs": [],
   "source": [
    "import numpy as np\n",
    "import pandas as pd\n",
    "import os"
   ]
  },
  {
   "cell_type": "code",
   "execution_count": 7,
   "metadata": {},
   "outputs": [],
   "source": [
    "A_outcome = pd.read_csv('./input/Outcomes-a.txt')\n",
    "#print(A_outcome)"
   ]
  },
  {
   "cell_type": "code",
   "execution_count": 8,
   "metadata": {},
   "outputs": [
    {
     "name": "stdout",
     "output_type": "stream",
     "text": [
      "[[132539      6      1      5     -1      0]\n",
      " [132540     16      8      8     -1      0]\n",
      " [132541     21     11     19     -1      0]\n",
      " ...\n",
      " [142670      8      5     11     -1      0]\n",
      " [142671     22     10      8      7      1]\n",
      " [142673     25     11      7     -1      0]]\n"
     ]
    }
   ],
   "source": [
    "arr_outcome = A_outcome.values\n",
    "print(arr_outcome)"
   ]
  },
  {
   "cell_type": "code",
   "execution_count": 9,
   "metadata": {},
   "outputs": [
    {
     "name": "stdout",
     "output_type": "stream",
     "text": [
      "[142673     34     22    154   2600      1]\n"
     ]
    }
   ],
   "source": [
    "out_max = np.amax(arr_outcome, axis=0)\n",
    "print(out_max)"
   ]
  },
  {
   "cell_type": "code",
   "execution_count": 10,
   "metadata": {},
   "outputs": [
    {
     "name": "stdout",
     "output_type": "stream",
     "text": [
      "[[ 9.28970443e-01  1.76470588e-01  4.54545455e-02  3.24675325e-02\n",
      "  -3.84615385e-04  0.00000000e+00]\n",
      " [ 9.28977452e-01  4.70588235e-01  3.63636364e-01  5.19480519e-02\n",
      "  -3.84615385e-04  0.00000000e+00]\n",
      " [ 9.28984461e-01  6.17647059e-01  5.00000000e-01  1.23376623e-01\n",
      "  -3.84615385e-04  0.00000000e+00]\n",
      " ...\n",
      " [ 9.99978973e-01  2.35294118e-01  2.27272727e-01  7.14285714e-02\n",
      "  -3.84615385e-04  0.00000000e+00]\n",
      " [ 9.99985982e-01  6.47058824e-01  4.54545455e-01  5.19480519e-02\n",
      "   2.69230769e-03  1.00000000e+00]\n",
      " [ 1.00000000e+00  7.35294118e-01  5.00000000e-01  4.54545455e-02\n",
      "  -3.84615385e-04  0.00000000e+00]]\n"
     ]
    }
   ],
   "source": [
    "nor_outcomes = arr_outcome/out_max[np.newaxis, :]\n",
    "print(nor_outcomes)"
   ]
  },
  {
   "cell_type": "code",
   "execution_count": 11,
   "metadata": {},
   "outputs": [
    {
     "name": "stdout",
     "output_type": "stream",
     "text": [
      "[[ 1.76470588e-01  4.54545455e-02  3.24675325e-02 -3.84615385e-04\n",
      "   0.00000000e+00]\n",
      " [ 4.70588235e-01  3.63636364e-01  5.19480519e-02 -3.84615385e-04\n",
      "   0.00000000e+00]\n",
      " [ 6.17647059e-01  5.00000000e-01  1.23376623e-01 -3.84615385e-04\n",
      "   0.00000000e+00]\n",
      " ...\n",
      " [ 2.35294118e-01  2.27272727e-01  7.14285714e-02 -3.84615385e-04\n",
      "   0.00000000e+00]\n",
      " [ 6.47058824e-01  4.54545455e-01  5.19480519e-02  2.69230769e-03\n",
      "   1.00000000e+00]\n",
      " [ 7.35294118e-01  5.00000000e-01  4.54545455e-02 -3.84615385e-04\n",
      "   0.00000000e+00]]\n",
      "[  34   22  154 2600    1]\n"
     ]
    }
   ],
   "source": [
    "s_nor_outcomes = nor_outcomes[:,1:]\n",
    "print(s_nor_outcomes)\n",
    "\n",
    "s_out_max = out_max[1:]\n",
    "print(s_out_max)"
   ]
  },
  {
   "cell_type": "code",
   "execution_count": 12,
   "metadata": {},
   "outputs": [
    {
     "name": "stdout",
     "output_type": "stream",
     "text": [
      "(5,)\n",
      "(4000, 5)\n"
     ]
    }
   ],
   "source": [
    "np.save('./input/max_out', s_out_max)\n",
    "np.save('./input/nor_out', s_nor_outcomes)\n",
    "\n",
    "l_max = np.load('./input/max_out.npy')\n",
    "l_out = np.load('./input/nor_out.npy')\n",
    "\n",
    "print(l_max.shape)\n",
    "print(l_out.shape)"
   ]
  }
 ],
 "metadata": {
  "kernelspec": {
   "display_name": "Python 3",
   "language": "python",
   "name": "python3"
  },
  "language_info": {
   "codemirror_mode": {
    "name": "ipython",
    "version": 3
   },
   "file_extension": ".py",
   "mimetype": "text/x-python",
   "name": "python",
   "nbconvert_exporter": "python",
   "pygments_lexer": "ipython3",
   "version": "3.6.5"
  }
 },
 "nbformat": 4,
 "nbformat_minor": 2
}
