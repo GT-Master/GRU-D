{
 "cells": [
  {
   "cell_type": "code",
   "execution_count": 1,
   "metadata": {},
   "outputs": [],
   "source": [
    "import numpy as np\n",
    "import pandas as pd\n",
    "import os"
   ]
  },
  {
   "cell_type": "code",
   "execution_count": 2,
   "metadata": {},
   "outputs": [],
   "source": [
    "inputpath = './input/set-a/'\n",
    "inputdict = {\n",
    "    \"ALP\" : 0,\n",
    "    \"ALT\" : 1,\n",
    "    \"AST\" : 2,\n",
    "    \"Albumin\" : 3,\n",
    "    \"BUN\" : 4,\n",
    "    \"Bilirubin\" : 5,\n",
    "    \"Cholesterol\" : 6,\n",
    "    \"Creatinine\" : 7,\n",
    "    \"DiasABP\" : 8,\n",
    "    \"FiO2\" : 9,\n",
    "    \"GCS\" : 10,\n",
    "    \"Glucose\" : 11,\n",
    "    \"HCO3\" : 12,\n",
    "    \"HCT\" : 13,\n",
    "    \"HR\" : 14,\n",
    "    \"K\" : 15,\n",
    "    \"Lactate\" : 16,\n",
    "    \"MAP\" : 17,\n",
    "    \"Mg\" : 18,\n",
    "    \"Na\" : 19,\n",
    "    \"PaCO2\" : 20,\n",
    "    \"PaO2\" : 21,\n",
    "    \"Platelets\" : 22,\n",
    "    \"RespRate\" : 23,\n",
    "    \"SaO2\" : 24,\n",
    "    \"SysABP\" : 25,\n",
    "    \"Temp\" : 26,\n",
    "    \"Tropl\" : 27,\n",
    "    \"TroponinI\" : 27, #temp\n",
    "    \"TropT\" : 28,\n",
    "    \"TroponinT\" : 28, #temp\n",
    "    \"Urine\" : 29,\n",
    "    \"WBC\" : 30,\n",
    "    \"Weight\" : 31,\n",
    "    \"pH\" : 32,\n",
    "    # addtional. not in the papar\n",
    "    \"NIDiasABP\" : 33,\n",
    "    \"NIMAP\" : 34,\n",
    "    \"NISysABP\" : 35,\n",
    "    \"MechVent\" : 36,\n",
    "    \"RecordID\" : 37,\n",
    "    \"Age\" : 38,\n",
    "    \"Gender\" :39,\n",
    "    \"ICUType\" : 40,\n",
    "    \"Height\": 41\n",
    "}"
   ]
  },
  {
   "cell_type": "code",
   "execution_count": 3,
   "metadata": {},
   "outputs": [],
   "source": [
    "def timeparser(time):\n",
    "    return pd.to_timedelta(time + ':00')\n",
    "\n",
    "def timedelta_to_day_figure(timedelta):\n",
    "    return timedelta.days + (timedelta.seconds/86400) #(24*60*60)"
   ]
  },
  {
   "cell_type": "code",
   "execution_count": 4,
   "metadata": {},
   "outputs": [],
   "source": [
    "def df_to_x(df):\n",
    "    grouped_data = df.groupby('Time')\n",
    "    \n",
    "    #generate input vectors\n",
    "    x = np.zeros((len(inputdict)-2, grouped_data.ngroups))\n",
    "\n",
    "    # fill the x and masking vectors\n",
    "    pre_time = pd.to_timedelta(0)\n",
    "    t = 0\n",
    "    for row_index, value in df.iterrows():\n",
    "        '''\n",
    "        t = colum, time frame\n",
    "        agg_no = row, variable\n",
    "        '''\n",
    "        #print(value)\n",
    "        agg_no = inputdict[value.Parameter]\n",
    "\n",
    "        # same timeline check.        \n",
    "        if pre_time != value.Time:\n",
    "            pre_time = value.Time\n",
    "            t += 1\n",
    "            \n",
    "        #print('agg_no : {}\\t t : {}\\t value : {}'.format(agg_no, t, value.Value))\n",
    "        x[agg_no, t] = value.Value    \n",
    "     \n",
    "    return x"
   ]
  },
  {
   "cell_type": "code",
   "execution_count": 5,
   "metadata": {},
   "outputs": [
    {
     "name": "stdout",
     "output_type": "stream",
     "text": [
      "[2.20500e+03 1.14700e+04 1.84300e+04 5.30000e+00 1.97000e+02 4.77000e+01\n",
      " 3.30000e+02 2.21000e+01 2.68000e+02 1.00000e+00 1.50000e+01 1.14300e+03\n",
      " 5.00000e+01 6.18000e+01 3.00000e+02 2.29000e+01 2.93000e+01 3.00000e+02\n",
      " 9.90000e+00 1.77000e+02 1.00000e+02 5.00000e+02 1.04700e+03 9.80000e+01\n",
      " 1.00000e+02 2.95000e+02 4.21000e+01 4.92000e+01 2.49100e+01 1.10000e+04\n",
      " 1.87500e+02 3.00000e+02 7.35000e+02 2.01000e+02 2.09000e+02 2.96000e+02\n",
      " 1.00000e+00 1.42673e+05 9.00000e+01 1.00000e+00 4.00000e+00 4.31800e+02]\n"
     ]
    }
   ],
   "source": [
    "x_max = np.zeros(len(inputdict) -2)\n",
    "for filename in os.listdir(inputpath):\n",
    "    df = pd.read_csv(inputpath + filename,\\\n",
    "                     header=0,\\\n",
    "                     parse_dates=['Time'],\\\n",
    "                     date_parser=timeparser)\n",
    "    x = df_to_x(df)\n",
    "    temp_x_max = np.max(x.T, axis=0)\n",
    "    x_max = np.maximum(x_max, temp_x_max)\n",
    "print(x_max)"
   ]
  },
  {
   "cell_type": "code",
   "execution_count": 6,
   "metadata": {},
   "outputs": [
    {
     "name": "stdout",
     "output_type": "stream",
     "text": [
      "[2.205e+03 1.147e+04 1.843e+04 5.300e+00 1.970e+02 4.770e+01 3.300e+02\n",
      " 2.210e+01 2.680e+02 1.000e+00 1.500e+01 1.143e+03 5.000e+01 6.180e+01\n",
      " 3.000e+02 2.290e+01 2.930e+01 3.000e+02 9.900e+00 1.770e+02 1.000e+02\n",
      " 5.000e+02 1.047e+03 9.800e+01 1.000e+02 2.950e+02 4.210e+01 4.920e+01\n",
      " 2.491e+01 1.100e+04 1.875e+02 3.000e+02 7.350e+02]\n",
      "(33,)\n"
     ]
    }
   ],
   "source": [
    "slice_x_max = x_max[:33]\n",
    "print(slice_x_max)\n",
    "print(slice_x_max.shape)"
   ]
  },
  {
   "cell_type": "code",
   "execution_count": 7,
   "metadata": {},
   "outputs": [
    {
     "name": "stdout",
     "output_type": "stream",
     "text": [
      "(33,)\n",
      "[2.205e+03 1.147e+04 1.843e+04 5.300e+00 1.970e+02 4.770e+01 3.300e+02\n",
      " 2.210e+01 2.680e+02 1.000e+00 1.500e+01 1.143e+03 5.000e+01 6.180e+01\n",
      " 3.000e+02 2.290e+01 2.930e+01 3.000e+02 9.900e+00 1.770e+02 1.000e+02\n",
      " 5.000e+02 1.047e+03 9.800e+01 1.000e+02 2.950e+02 4.210e+01 4.920e+01\n",
      " 2.491e+01 1.100e+04 1.875e+02 3.000e+02 7.350e+02]\n"
     ]
    }
   ],
   "source": [
    "np.save('./input/x_max', slice_x_max)\n",
    "\n",
    "l_x_max = np.load('./input/x_max.npy')\n",
    "print(l_x_max.shape)\n",
    "print(l_x_max)"
   ]
  },
  {
   "cell_type": "code",
   "execution_count": null,
   "metadata": {},
   "outputs": [],
   "source": []
  }
 ],
 "metadata": {
  "kernelspec": {
   "display_name": "Python 3",
   "language": "python",
   "name": "python3"
  },
  "language_info": {
   "codemirror_mode": {
    "name": "ipython",
    "version": 3
   },
   "file_extension": ".py",
   "mimetype": "text/x-python",
   "name": "python",
   "nbconvert_exporter": "python",
   "pygments_lexer": "ipython3",
   "version": "3.6.5"
  }
 },
 "nbformat": 4,
 "nbformat_minor": 2
}
